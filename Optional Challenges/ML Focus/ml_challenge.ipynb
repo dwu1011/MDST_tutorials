{
 "cells": [
  {
   "cell_type": "markdown",
   "metadata": {},
   "source": [
    "# ML Challenge (Optional)"
   ]
  },
  {
   "cell_type": "markdown",
   "metadata": {},
   "source": [
    "Train, test, optimize, and analyze the performance of a classification model using a methodology of your choice for the randomly generated moons dataset.\n",
    "\n",
    "You are not being evaluated for the performance of your model. Instead, we are interested in whether you can implement a simple but rigorous ML workflow.\n",
    "\n",
    "Show all of your work in this notebook."
   ]
  },
  {
   "cell_type": "code",
   "execution_count": 109,
   "metadata": {},
   "outputs": [],
   "source": [
    "import numpy as np\n",
    "import pandas as pd\n",
    "## sklearn models\n",
    "from sklearn.base import BaseEstimator\n",
    "from sklearn.preprocessing import StandardScaler\n",
    "from sklearn.linear_model import LogisticRegression, LinearRegression\n",
    "from sklearn.linear_model import Ridge, Lasso, LassoLars, ElasticNet\n",
    "from sklearn.ensemble import RandomForestClassifier, RandomForestRegressor\n",
    "from sklearn.ensemble import ExtraTreesClassifier, ExtraTreesRegressor\n",
    "from sklearn.ensemble import GradientBoostingClassifier, GradientBoostingRegressor\n",
    "from sklearn.neural_network import MLPClassifier\n",
    "from sklearn.svm import SVR, SVC\n",
    "from sklearn.pipeline import Pipeline\n",
    "from datetime import date\n",
    "\n",
    "## sklearn model selection\n",
    "from sklearn.model_selection import StratifiedKFold\n",
    "from sklearn.model_selection import train_test_split\n",
    "from sklearn.inspection import permutation_importance\n",
    "\n",
    "## sklearn model metrics\n",
    "from sklearn import metrics\n",
    "\n",
    "import itertools\n",
    "import gc\n",
    "import statistics\n",
    "import math\n",
    "import seaborn as sns"
   ]
  },
  {
   "cell_type": "markdown",
   "metadata": {},
   "source": [
    "## Dataset"
   ]
  },
  {
   "cell_type": "code",
   "execution_count": 110,
   "metadata": {},
   "outputs": [],
   "source": [
    "# DO NOT MODIFY\n",
    "from sklearn.datasets import make_moons\n",
    "\n",
    "X, Y = make_moons(random_state=42, n_samples=(50, 450), noise=0.25)"
   ]
  },
  {
   "cell_type": "markdown",
   "metadata": {},
   "source": [
    "## Training"
   ]
  },
  {
   "cell_type": "code",
   "execution_count": 111,
   "metadata": {},
   "outputs": [
    {
     "data": {
      "text/html": [
       "<div>\n",
       "<style scoped>\n",
       "    .dataframe tbody tr th:only-of-type {\n",
       "        vertical-align: middle;\n",
       "    }\n",
       "\n",
       "    .dataframe tbody tr th {\n",
       "        vertical-align: top;\n",
       "    }\n",
       "\n",
       "    .dataframe thead th {\n",
       "        text-align: right;\n",
       "    }\n",
       "</style>\n",
       "<table border=\"1\" class=\"dataframe\">\n",
       "  <thead>\n",
       "    <tr style=\"text-align: right;\">\n",
       "      <th></th>\n",
       "      <th>0</th>\n",
       "      <th>1</th>\n",
       "    </tr>\n",
       "  </thead>\n",
       "  <tbody>\n",
       "    <tr>\n",
       "      <th>0</th>\n",
       "      <td>1.569404</td>\n",
       "      <td>-0.133388</td>\n",
       "    </tr>\n",
       "    <tr>\n",
       "      <th>1</th>\n",
       "      <td>0.496307</td>\n",
       "      <td>0.443235</td>\n",
       "    </tr>\n",
       "    <tr>\n",
       "      <th>2</th>\n",
       "      <td>1.783240</td>\n",
       "      <td>-0.230247</td>\n",
       "    </tr>\n",
       "    <tr>\n",
       "      <th>3</th>\n",
       "      <td>0.551058</td>\n",
       "      <td>-0.037493</td>\n",
       "    </tr>\n",
       "    <tr>\n",
       "      <th>4</th>\n",
       "      <td>0.257809</td>\n",
       "      <td>0.583334</td>\n",
       "    </tr>\n",
       "    <tr>\n",
       "      <th>...</th>\n",
       "      <td>...</td>\n",
       "      <td>...</td>\n",
       "    </tr>\n",
       "    <tr>\n",
       "      <th>495</th>\n",
       "      <td>0.118067</td>\n",
       "      <td>0.181018</td>\n",
       "    </tr>\n",
       "    <tr>\n",
       "      <th>496</th>\n",
       "      <td>1.170904</td>\n",
       "      <td>-0.826999</td>\n",
       "    </tr>\n",
       "    <tr>\n",
       "      <th>497</th>\n",
       "      <td>1.084024</td>\n",
       "      <td>0.024586</td>\n",
       "    </tr>\n",
       "    <tr>\n",
       "      <th>498</th>\n",
       "      <td>1.542110</td>\n",
       "      <td>-0.238542</td>\n",
       "    </tr>\n",
       "    <tr>\n",
       "      <th>499</th>\n",
       "      <td>-0.190147</td>\n",
       "      <td>0.664124</td>\n",
       "    </tr>\n",
       "  </tbody>\n",
       "</table>\n",
       "<p>500 rows × 2 columns</p>\n",
       "</div>"
      ],
      "text/plain": [
       "            0         1\n",
       "0    1.569404 -0.133388\n",
       "1    0.496307  0.443235\n",
       "2    1.783240 -0.230247\n",
       "3    0.551058 -0.037493\n",
       "4    0.257809  0.583334\n",
       "..        ...       ...\n",
       "495  0.118067  0.181018\n",
       "496  1.170904 -0.826999\n",
       "497  1.084024  0.024586\n",
       "498  1.542110 -0.238542\n",
       "499 -0.190147  0.664124\n",
       "\n",
       "[500 rows x 2 columns]"
      ]
     },
     "execution_count": 111,
     "metadata": {},
     "output_type": "execute_result"
    }
   ],
   "source": [
    "df = pd.DataFrame(X)\n",
    "df"
   ]
  },
  {
   "cell_type": "code",
   "execution_count": 112,
   "metadata": {},
   "outputs": [
    {
     "data": {
      "text/plain": [
       "((500, 2), (500,))"
      ]
     },
     "execution_count": 112,
     "metadata": {},
     "output_type": "execute_result"
    }
   ],
   "source": [
    "X.shape, Y.shape"
   ]
  },
  {
   "cell_type": "code",
   "execution_count": 113,
   "metadata": {},
   "outputs": [
    {
     "data": {
      "image/png": "[encoded data removed]",
      "text/plain": [
       "<Figure size 640x480 with 1 Axes>"
      ]
     },
     "metadata": {},
     "output_type": "display_data"
    }
   ],
   "source": [
    "plt.scatter(df[0], Y)\n",
    "plt.xlabel('X') # set the labels of the x and y axes\n",
    "plt.ylabel('Y')\n",
    "plt.show()"
   ]
  },
  {
   "cell_type": "code",
   "execution_count": 114,
   "metadata": {},
   "outputs": [
    {
     "data": {
      "image/png": "[encoded data removed]",
      "text/plain": [
       "<Figure size 640x480 with 1 Axes>"
      ]
     },
     "metadata": {},
     "output_type": "display_data"
    }
   ],
   "source": [
    "plt.scatter(df[1], Y)\n",
    "plt.xlabel('X') # set the labels of the x and y axes\n",
    "plt.ylabel('Y')\n",
    "plt.show()"
   ]
  },
  {
   "cell_type": "code",
   "execution_count": 115,
   "metadata": {},
   "outputs": [
    {
     "data": {
      "text/plain": [
       "0    0\n",
       "1    0\n",
       "dtype: int64"
      ]
     },
     "execution_count": 115,
     "metadata": {},
     "output_type": "execute_result"
    }
   ],
   "source": [
    "df.isna().sum()"
   ]
  },
  {
   "cell_type": "code",
   "execution_count": 116,
   "metadata": {},
   "outputs": [
    {
     "data": {
      "text/html": [
       "<div>\n",
       "<style scoped>\n",
       "    .dataframe tbody tr th:only-of-type {\n",
       "        vertical-align: middle;\n",
       "    }\n",
       "\n",
       "    .dataframe tbody tr th {\n",
       "        vertical-align: top;\n",
       "    }\n",
       "\n",
       "    .dataframe thead th {\n",
       "        text-align: right;\n",
       "    }\n",
       "</style>\n",
       "<table border=\"1\" class=\"dataframe\">\n",
       "  <thead>\n",
       "    <tr style=\"text-align: right;\">\n",
       "      <th></th>\n",
       "      <th>0</th>\n",
       "      <th>1</th>\n",
       "    </tr>\n",
       "  </thead>\n",
       "  <tbody>\n",
       "    <tr>\n",
       "      <th>0</th>\n",
       "      <td>1.569404</td>\n",
       "      <td>-0.133388</td>\n",
       "    </tr>\n",
       "    <tr>\n",
       "      <th>1</th>\n",
       "      <td>0.496307</td>\n",
       "      <td>0.443235</td>\n",
       "    </tr>\n",
       "    <tr>\n",
       "      <th>2</th>\n",
       "      <td>1.783240</td>\n",
       "      <td>-0.230247</td>\n",
       "    </tr>\n",
       "    <tr>\n",
       "      <th>3</th>\n",
       "      <td>0.551058</td>\n",
       "      <td>-0.037493</td>\n",
       "    </tr>\n",
       "    <tr>\n",
       "      <th>4</th>\n",
       "      <td>0.257809</td>\n",
       "      <td>0.583334</td>\n",
       "    </tr>\n",
       "    <tr>\n",
       "      <th>...</th>\n",
       "      <td>...</td>\n",
       "      <td>...</td>\n",
       "    </tr>\n",
       "    <tr>\n",
       "      <th>495</th>\n",
       "      <td>0.118067</td>\n",
       "      <td>0.181018</td>\n",
       "    </tr>\n",
       "    <tr>\n",
       "      <th>496</th>\n",
       "      <td>1.170904</td>\n",
       "      <td>-0.826999</td>\n",
       "    </tr>\n",
       "    <tr>\n",
       "      <th>497</th>\n",
       "      <td>1.084024</td>\n",
       "      <td>0.024586</td>\n",
       "    </tr>\n",
       "    <tr>\n",
       "      <th>498</th>\n",
       "      <td>1.542110</td>\n",
       "      <td>-0.238542</td>\n",
       "    </tr>\n",
       "    <tr>\n",
       "      <th>499</th>\n",
       "      <td>-0.190147</td>\n",
       "      <td>0.664124</td>\n",
       "    </tr>\n",
       "  </tbody>\n",
       "</table>\n",
       "<p>500 rows × 2 columns</p>\n",
       "</div>"
      ],
      "text/plain": [
       "            0         1\n",
       "0    1.569404 -0.133388\n",
       "1    0.496307  0.443235\n",
       "2    1.783240 -0.230247\n",
       "3    0.551058 -0.037493\n",
       "4    0.257809  0.583334\n",
       "..        ...       ...\n",
       "495  0.118067  0.181018\n",
       "496  1.170904 -0.826999\n",
       "497  1.084024  0.024586\n",
       "498  1.542110 -0.238542\n",
       "499 -0.190147  0.664124\n",
       "\n",
       "[500 rows x 2 columns]"
      ]
     },
     "execution_count": 116,
     "metadata": {},
     "output_type": "execute_result"
    }
   ],
   "source": [
    "df.dropna()"
   ]
  },
  {
   "cell_type": "code",
   "execution_count": 124,
   "metadata": {},
   "outputs": [
    {
     "data": {
      "text/plain": [
       "0\n",
       "1    450\n",
       "0     50\n",
       "Name: count, dtype: int64"
      ]
     },
     "execution_count": 124,
     "metadata": {},
     "output_type": "execute_result"
    }
   ],
   "source": [
    "df_y = pd.DataFrame(Y)\n",
    "df_y[0].value_counts()"
   ]
  },
  {
   "cell_type": "markdown",
   "metadata": {},
   "source": [
    "## Testing / Optimization"
   ]
  },
  {
   "cell_type": "code",
   "execution_count": 119,
   "metadata": {},
   "outputs": [
    {
     "data": {
      "text/plain": [
       "(500,)"
      ]
     },
     "execution_count": 119,
     "metadata": {},
     "output_type": "execute_result"
    }
   ],
   "source": [
    "Y.shape"
   ]
  },
  {
   "cell_type": "code",
   "execution_count": 120,
   "metadata": {},
   "outputs": [],
   "source": [
    "def train_cv(X, y, param):\n",
    "    X_train, X_valid, y_train, y_valid = train_test_split(X, y, test_size=.3, random_state=420)\n",
    "    lr = LogisticRegression(solver='lbfgs',max_iter=1000,penalty='l2', C=param['C'],\\\n",
    "                                    tol=1e-5, class_weight='balanced',random_state=param['random_state'])\n",
    "    lr.fit(X_train, y_train)\n",
    "    \n",
    "    y_pred = lr.predict(X_valid)\n",
    "\n",
    "    return fun_binary_metrics(y_valid, p_pred = y_pred)"
   ]
  },
  {
   "cell_type": "code",
   "execution_count": 26,
   "metadata": {},
   "outputs": [],
   "source": [
    "C_range = np.logspace(-2, 3, 6)"
   ]
  },
  {
   "cell_type": "code",
   "execution_count": 102,
   "metadata": {},
   "outputs": [],
   "source": [
    "def tune(X, y, task):\n",
    "    res = dict()\n",
    "    if task == 'lr':\n",
    "        for C in C_range:    \n",
    "            params = {'random_state': 50, 'kfold': 3, 'task': task, 'C': C, 'max_iter': 1000}\n",
    "            print(params)\n",
    "            cv_score = train_cv(X, y, param=params)\n",
    "            res[C] = cv_score\n",
    "\n",
    "    # use accuracy to choose hyperparameter (pairs)\n",
    "    res = pd.DataFrame.from_dict(res, orient='index')\n",
    "    best_params = res.iloc[:, 0].idxmax()\n",
    "\n",
    "    return best_params, res"
   ]
  },
  {
   "cell_type": "code",
   "execution_count": 121,
   "metadata": {
    "scrolled": true
   },
   "outputs": [
    {
     "name": "stdout",
     "output_type": "stream",
     "text": [
      "{'random_state': 50, 'kfold': 3, 'task': 'lr', 'C': 0.01, 'max_iter': 1000}\n",
      "balanced accuracy accuracy auc sensitivity specificity best prob cut\n",
      "{'random_state': 50, 'kfold': 3, 'task': 'lr', 'C': 0.1, 'max_iter': 1000}\n",
      "balanced accuracy accuracy auc sensitivity specificity best prob cut\n",
      "{'random_state': 50, 'kfold': 3, 'task': 'lr', 'C': 1.0, 'max_iter': 1000}\n",
      "balanced accuracy accuracy auc sensitivity specificity best prob cut\n",
      "{'random_state': 50, 'kfold': 3, 'task': 'lr', 'C': 10.0, 'max_iter': 1000}\n",
      "balanced accuracy accuracy auc sensitivity specificity best prob cut\n",
      "{'random_state': 50, 'kfold': 3, 'task': 'lr', 'C': 100.0, 'max_iter': 1000}\n",
      "balanced accuracy accuracy auc sensitivity specificity best prob cut\n",
      "{'random_state': 50, 'kfold': 3, 'task': 'lr', 'C': 1000.0, 'max_iter': 1000}\n",
      "balanced accuracy accuracy auc sensitivity specificity best prob cut\n"
     ]
    },
    {
     "data": {
      "text/plain": [
       "(0.01,\n",
       "            0         1         2         3         4    5\n",
       " 0.01     0.5  0.113333  0.869748  0.857143  0.882353  1.0\n",
       " 0.10     0.5  0.113333  0.881026  0.879699  0.882353  1.0\n",
       " 1.00     0.5  0.113333  0.914197  0.887218  0.941176  1.0\n",
       " 10.00    0.5  0.113333  0.910438  0.879699  0.941176  1.0\n",
       " 100.00   0.5  0.113333  0.914197  0.887218  0.941176  1.0\n",
       " 1000.00  0.5  0.113333  0.914197  0.887218  0.941176  1.0)"
      ]
     },
     "execution_count": 121,
     "metadata": {},
     "output_type": "execute_result"
    }
   ],
   "source": [
    "tune(X,Y, 'lr')"
   ]
  },
  {
   "cell_type": "code",
   "execution_count": null,
   "metadata": {},
   "outputs": [],
   "source": [
    "param = {'random_state': 50, 'kfold': 3, 'task': 'lr', 'C': 100, 'max_iter': 1000}\n",
    "\n",
    "X_train, X_valid, y_train, y_valid = train_test_split(X, Y, test_size=.3, random_state=420)\n",
    "lr = LogisticRegression(solver='lbfgs',max_iter=1000,penalty='l2', C=param['C'],\\\n",
    "                                tol=1e-5, class_weight='balanced',random_state=param['random_state'])\n",
    "lr.fit(X_train, y_train)\n",
    "\n",
    "y_pred = lr.predict(X_valid)"
   ]
  },
  {
   "cell_type": "markdown",
   "metadata": {},
   "source": [
    "## Performance Analysis"
   ]
  },
  {
   "cell_type": "code",
   "execution_count": 20,
   "metadata": {},
   "outputs": [],
   "source": [
    "def fun_binary_metrics(y_true, y_pred=None, p_pred=None): # my own function from another project\n",
    "    if p_pred is not None:\n",
    "        fpr, tpr, thresholds = metrics.roc_curve(y_true, p_pred, pos_label=1)\n",
    "        youden = 1 - fpr + tpr\n",
    "        m = max(youden)\n",
    "        pos = [i for i, j in enumerate(youden) if j == m]\n",
    "        best_prob_cut = thresholds[pos]\n",
    "\n",
    "        y_pred = p_pred>best_prob_cut[0]\n",
    "        y_pred = y_pred.astype(int)\n",
    "        y_pred\n",
    "        accuracy = metrics.accuracy_score(y_true, y_pred)\n",
    "        bal_accuracy = metrics.balanced_accuracy_score(y_true, y_pred)\n",
    "        \n",
    "        sensitivity = tpr[pos][0]\n",
    "        specifisity = 1-fpr[pos][0]\n",
    "        \n",
    "        auc = metrics.roc_auc_score(y_true, p_pred) \n",
    "        print('balanced accuracy','accuracy', 'auc', 'sensitivity', 'specificity','best prob cut')\n",
    "        return bal_accuracy, accuracy, auc, sensitivity, specifisity, best_prob_cut[0]\n",
    "    \n",
    "    elif p_pred is None:\n",
    "        accuracy = metrics.accuracy_score(y_true, y_pred)\n",
    "        bal_accuracy = metrics.balanced_accuracy_score(y_true, y_pred)\n",
    "        auc = metrics.roc_auc_score(y_true, y_pred)\n",
    "        \n",
    "        tn, fp, fn, tp = metrics.confusion_matrix(y_true, y_pred).ravel()\n",
    "        \n",
    "        sensitivity = tp/(tp+fn)\n",
    "        specifisity = tn/(tn+fp)\n",
    "        \n",
    "        print('balanced accuracy','accuracy', 'auc', 'sensitivity', 'specificity','best prob cut')\n",
    "        return bal_accuracy, accuracy, auc, sensitivity, specifisity, 0.5 \n",
    "    "
   ]
  },
  {
   "cell_type": "code",
   "execution_count": 125,
   "metadata": {},
   "outputs": [],
   "source": [
    "param = {'random_state': 50, 'kfold': 3, 'task': 'lr', 'C': 100, 'max_iter': 1000}\n",
    "\n",
    "X_train, X_valid, y_train, y_valid = train_test_split(X, Y, test_size=.3, random_state=420)\n",
    "\n",
    "lr = LogisticRegression(solver='lbfgs',max_iter=1000,penalty='l2', C=param['C'],\\\n",
    "                                tol=1e-5, class_weight='balanced',random_state=param['random_state'])\n",
    "lr.fit(X_train, y_train)\n",
    "\n",
    "y_pred = lr.predict(X_valid)"
   ]
  },
  {
   "cell_type": "code",
   "execution_count": 96,
   "metadata": {},
   "outputs": [],
   "source": [
    "def confusion_matrix(y_valid, y_pred):\n",
    "    cnf_matrix = metrics.confusion_matrix(y_valid, y_pred)\n",
    "\n",
    "    # Visualizing the Confusion Matrix\n",
    "    class_names = [0,1] # Our diagnosis categories\n",
    "    \n",
    "    fig, ax = plt.subplots()\n",
    "    # Setting up and visualizing the plot (do not worry about the code below!)\n",
    "    tick_marks = np.arange(len(class_names))\n",
    "    plt.xticks(tick_marks, class_names)\n",
    "    plt.yticks(tick_marks, class_names)\n",
    "    sns.heatmap(pd.DataFrame(cnf_matrix), annot=True, cmap=\"YlGnBu\" ,fmt='g') # Creating heatmap\n",
    "    ax.xaxis.set_label_position(\"top\")\n",
    "    plt.tight_layout()\n",
    "    plt.title('Confusion matrix', y = 1.1)\n",
    "    plt.ylabel('Actual diagnosis')\n",
    "    plt.xlabel('Predicted diagnosis')"
   ]
  },
  {
   "cell_type": "code",
   "execution_count": 126,
   "metadata": {},
   "outputs": [
    {
     "data": {
      "image/png": "[encoded data removed]",
      "text/plain": [
       "<Figure size 640x480 with 2 Axes>"
      ]
     },
     "metadata": {},
     "output_type": "display_data"
    }
   ],
   "source": [
    "confusion_matrix(y_valid, y_pred)"
   ]
  }
 ],
 "metadata": {
  "kernelspec": {
   "display_name": "Python 3 (ipykernel)",
   "language": "python",
   "name": "python3"
  },
  "language_info": {
   "codemirror_mode": {
    "name": "ipython",
    "version": 3
   },
   "file_extension": ".py",
   "mimetype": "text/x-python",
   "name": "python",
   "nbconvert_exporter": "python",
   "pygments_lexer": "ipython3",
   "version": "3.9.6"
  },
  "vscode": {
   "interpreter": {
    "hash": "e78b6b4158d8f577a77be3bef6c4f5889b406541923fa59adc2e6c48950512fc"
   }
  }
 },
 "nbformat": 4,
 "nbformat_minor": 4
}
